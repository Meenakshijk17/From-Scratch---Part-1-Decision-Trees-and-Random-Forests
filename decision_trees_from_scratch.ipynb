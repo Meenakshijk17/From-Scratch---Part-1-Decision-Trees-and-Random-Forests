{
 "cells": [
  {
   "cell_type": "code",
   "execution_count": 1,
   "id": "9073bfec",
   "metadata": {},
   "outputs": [],
   "source": [
    "import numpy as np\n",
    "import pandas as pd"
   ]
  },
  {
   "cell_type": "code",
   "execution_count": null,
   "id": "6baf77f3",
   "metadata": {},
   "outputs": [],
   "source": [
    "df = [[2.771244718, 1.784783929, 0],\n",
    "      [1.728571309, 1.169761413, 0],\n",
    "      [3.678319846, 2.81281357, 0],\n",
    "      [3.961043357, 2.61995032, 0],\n",
    "      [2.999208922, 2.209014212, 0],\n",
    "      [7.497545867, 3.162953546, 1],\n",
    "      [9.00220326 , 3.339047188, 1],\n",
    "      [7.444542326, 0.476683375, 1],\n",
    "      [10.12493903, 3.234550982, 1],\n",
    "      [6.642287351, 3.319983761, 1]]"
   ]
  },
  {
   "cell_type": "code",
   "execution_count": 63,
   "id": "742e300c",
   "metadata": {},
   "outputs": [],
   "source": [
    "c1 = ['Y', 'Y', 'N', 'N', 'Y', 'Y', 'N']\n",
    "c2 = ['Y', 'N', 'Y', 'Y', 'Y', 'N', 'N']\n",
    "c3 = [7, 12, 18, 35, 38, 50, 83]\n",
    "targets = [0, 0, 1, 1, 1, 0, 0]\n",
    "\n",
    "cat_cols = {'c1': c1, 'c2': c2}\n",
    "num_cols = {'c3': c3}\n",
    "num_classes = np.unique(targets)\n",
    "cols = {'c1': c1, 'c2': c2, 'c3': c3}"
   ]
  },
  {
   "cell_type": "code",
   "execution_count": 89,
   "id": "4e837c71",
   "metadata": {},
   "outputs": [],
   "source": [
    "def gini_impurity(left_node_data, right_node_data, targets1):\n",
    "    left_splits = [0]*num_classes\n",
    "    right_splits = [0]*num_classes\n",
    "    for cls in num_classes:\n",
    "        for data_id in left_node_data:\n",
    "            if targets1[data_id]==cls:\n",
    "                left_splits[cls] += 1\n",
    "        for data_id in right_node_data:\n",
    "            if targets1[data_id]==cls:\n",
    "                right_splits[cls] += 1\n",
    "    left_impurity = 1\n",
    "    right_impurity = 1\n",
    "    for cls in num_classes:\n",
    "        left_impurity -= (left_splits[cls]/sum(left_splits))**2\n",
    "        right_impurity -= (right_splits[cls]/sum(right_splits))**2\n",
    "    total_impurity = ((sum(left_splits)*left_impurity) + (sum(right_splits)*right_impurity))/sum(left_splits+right_splits)\n",
    "    return(total_impurity, left_splits, right_splits)\n",
    "    "
   ]
  },
  {
   "cell_type": "code",
   "execution_count": 125,
   "id": "99345f0e",
   "metadata": {},
   "outputs": [],
   "source": [
    "def get_decision_node(cat_cols1, num_cols1, targets1):\n",
    "    \n",
    "    # to find best node\n",
    "    node_options = dict()\n",
    "    # cat_cols\n",
    "    for c_name, c in cat_cols1.items():\n",
    "        categories = list(np.unique(c))\n",
    "        node_conditions = categories[:-1] # all but one\n",
    "        for condition in node_conditions:\n",
    "            left_node_data_id = [i for i in range(len(c)) if c[i]==condition]\n",
    "            right_node_data_id = [i for i in range(len(c)) if c[i]!=condition]\n",
    "            total_impurity, left_splits, right_splits = gini_impurity(left_node_data_id, right_node_data_id, targets1)   \n",
    "            node_options[(c_name, condition)] = (total_impurity, left_node_data_id, right_node_data_id)\n",
    "    # num_cols\n",
    "    for c_name, c in num_cols1.items():\n",
    "        sorted_c = sorted(c)\n",
    "        avg_col = [(sorted_c[i]+sorted_c[i+1])/2 for i in range(len(c)-1)]\n",
    "        for condition in avg_col:\n",
    "            left_node_data_id = [i for i in range(len(c)) if c[i]<condition]\n",
    "            right_node_data_id = [i for i in range(len(c)) if c[i]>=condition]\n",
    "            total_impurity, left_splits, right_splits = gini_impurity(left_node_data_id, right_node_data_id, targets1)\n",
    "            node_options[(c_name, condition)] = (total_impurity, left_node_data_id, right_node_data_id)\n",
    "    if len(node_options) != 0:\n",
    "        decision_node = sorted(node_options.items(), key=lambda item: item[1][0])[0]\n",
    "        return(decision_node)\n",
    "    \n",
    "    "
   ]
  },
  {
   "cell_type": "code",
   "execution_count": 140,
   "id": "2bbe61ac",
   "metadata": {},
   "outputs": [
    {
     "data": {
      "text/plain": [
       "(('c2', 'N'), (0.21428571428571427, [1, 5, 6], [0, 2, 3, 4]))"
      ]
     },
     "execution_count": 140,
     "metadata": {},
     "output_type": "execute_result"
    }
   ],
   "source": [
    "get_decision_node(cat_cols, num_cols, targets)"
   ]
  },
  {
   "cell_type": "code",
   "execution_count": 137,
   "id": "11e391fb",
   "metadata": {},
   "outputs": [],
   "source": [
    "tree = {}\n",
    "n = 0\n",
    "depth = 0\n",
    "# add root node \n",
    "(c_name, cond_val), (_, left_node_data_id, right_node_data_id) = get_decision_node(cat_cols, num_cols, targets)\n",
    "tree[f'node{n}'] = {'c_name':c_name, 'cond_val':cond_val, 'depth':depth, 'leftNode':False, 'rightNode':False, 'parent': None}\n",
    "parent = f'node{n}'\n",
    "n += 1"
   ]
  },
  {
   "cell_type": "code",
   "execution_count": 142,
   "id": "0470cc49",
   "metadata": {},
   "outputs": [],
   "source": [
    "def get_data_subset(node_data_id):\n",
    "    cat_cols1 = {}\n",
    "    num_cols1 = {}\n",
    "    for c_name, c in cat_cols.items():\n",
    "        cat_cols1[c_name] = [c[i] for i in node_data_id]\n",
    "    for c_name, c in num_cols.items():\n",
    "        num_cols1[c_name] = [c[i] for i in node_data_id]\n",
    "    targets1 = [targets[i] for i in node_data_id]\n",
    "    return(cat_cols1, num_cols1, targets1)"
   ]
  },
  {
   "cell_type": "code",
   "execution_count": null,
   "id": "b542227d",
   "metadata": {},
   "outputs": [],
   "source": [
    "def add_node(parent, left_node_data_id, right_node_data_id)"
   ]
  },
  {
   "cell_type": "code",
   "execution_count": 138,
   "id": "e9f0118d",
   "metadata": {},
   "outputs": [],
   "source": [
    "# while depth < 3:\n",
    "l_cat_cols1 = {}\n",
    "l_num_cols1 = {}\n",
    "for c_name, c in cat_cols.items():\n",
    "    l_cat_cols1[c_name] = [c[i] for i in left_node_data_id]\n",
    "for c_name, c in num_cols.items():\n",
    "    l_num_cols1[c_name] = [c[i] for i in left_node_data_id]\n",
    "l_targets1 = [targets[i] for i in left_node_data_id]\n",
    "(c_name, cond_val), (_, left_node_data_id, right_node_data_id) = get_decision_node(l_cat_cols1, l_num_cols1, l_targets1)\n",
    "# node_n = f'node{n}' if f'node{n}' not in tree else f'node{n}'\n",
    "tree[f'node{n}'] = {'c_name':c_name, 'cond_val':cond_val, 'depth':depth, 'leftNode':True, 'rightNode':False, 'parent': parent}\n",
    "n += 1\n",
    "# right_node_data_id = node[1][2]\n",
    "# r_cat_cols1 = {}\n",
    "# r_num_cols1 = {}\n",
    "# for c_name, c in cat_cols.items():\n",
    "#     r_cat_cols1[c_name] = [c[i] for i in right_node_data_id]\n",
    "# fo c_name, c in num_cols.items():\n",
    "#     r_num_cols1[c_name] = [c[i] for i in right_node_data_id]\n",
    "# r_targets1 = [targets[i] for i in right_node_data_id]"
   ]
  },
  {
   "cell_type": "code",
   "execution_count": 139,
   "id": "7167d52e",
   "metadata": {},
   "outputs": [
    {
     "data": {
      "text/plain": [
       "{'node0': {'c_name': 'c2',\n",
       "  'cond_val': 'N',\n",
       "  'depth': 0,\n",
       "  'leftNode': False,\n",
       "  'rightNode': False,\n",
       "  'parent': None},\n",
       " 'node1': {'c_name': 'c1',\n",
       "  'cond_val': 'N',\n",
       "  'depth': 0,\n",
       "  'leftNode': True,\n",
       "  'rightNode': False,\n",
       "  'parent': 'node0'}}"
      ]
     },
     "execution_count": 139,
     "metadata": {},
     "output_type": "execute_result"
    }
   ],
   "source": [
    "tree"
   ]
  },
  {
   "cell_type": "code",
   "execution_count": 122,
   "id": "23e7c9cb",
   "metadata": {},
   "outputs": [],
   "source": [
    "def add_node(tree, depth, max_depth, n, cat_cols1, num_cols1, targets1):\n",
    "    \n",
    "    node = get_decision_node(cat_cols1, num_cols1, targets1)\n",
    "    if node:\n",
    "    \n",
    "    #     tree = {} \n",
    "    #     depth = 0\n",
    "    #     n = 1\n",
    "        if depth >= max_depth:\n",
    "            \n",
    "            tree[f'n{n}'] = {'c_name': node[0][0],\n",
    "                            'condition': node[0][1],\n",
    "                            'depth': depth,\n",
    "                            'leftChild': None,\n",
    "                            'rightChild': None\n",
    "                            }\n",
    "            return(tree)\n",
    "        else:\n",
    "            left_node_data_id = node[1][1]\n",
    "            l_cat_cols1 = {}\n",
    "            l_num_cols1 = {}\n",
    "            for c_name, c in cat_cols.items():\n",
    "                l_cat_cols1[c_name] = [c[i] for i in left_node_data_id]\n",
    "            for c_name, c in num_cols.items():\n",
    "                l_num_cols1[c_name] = [c[i] for i in left_node_data_id]\n",
    "            l_targets1 = [targets[i] for i in left_node_data_id]\n",
    "            \n",
    "            right_node_data_id = node[1][2]\n",
    "            r_cat_cols1 = {}\n",
    "            r_num_cols1 = {}\n",
    "            for c_name, c in cat_cols.items():\n",
    "                r_cat_cols1[c_name] = [c[i] for i in right_node_data_id]\n",
    "            for c_name, c in num_cols.items():\n",
    "                r_num_cols1[c_name] = [c[i] for i in right_node_data_id]\n",
    "            r_targets1 = [targets[i] for i in right_node_data_id]\n",
    "            \n",
    "            tree[f'n{n}'] = {'c_name': node[0][0],\n",
    "                            'condition': node[0][1],\n",
    "                            'depth': depth,\n",
    "                            'leftChild': add_node(tree, depth+1, max_depth, n+1, l_cat_cols1, l_num_cols1, l_targets1),\n",
    "                            'rightChild': add_node(tree, depth+1, max_depth, n+2, r_cat_cols1, r_num_cols1, r_targets1)\n",
    "                            }\n",
    "    else:\n",
    "        return(tree)"
   ]
  },
  {
   "cell_type": "code",
   "execution_count": 123,
   "id": "bf4a4156",
   "metadata": {},
   "outputs": [],
   "source": [
    "tree = add_node({}, 0, 2, 0, cat_cols, num_cols, targets)"
   ]
  },
  {
   "cell_type": "code",
   "execution_count": 124,
   "id": "3cded3b9",
   "metadata": {},
   "outputs": [],
   "source": [
    "tree"
   ]
  },
  {
   "cell_type": "code",
   "execution_count": 102,
   "id": "c6c8fb75",
   "metadata": {},
   "outputs": [
    {
     "data": {
      "text/plain": [
       "(('c2', 'N'), (0.21428571428571427, [1, 5, 6], [0, 2, 3, 4]))"
      ]
     },
     "execution_count": 102,
     "metadata": {},
     "output_type": "execute_result"
    }
   ],
   "source": [
    "get_decision_node(cat_cols, num_cols, targets)"
   ]
  },
  {
   "cell_type": "code",
   "execution_count": 103,
   "id": "ff33bf18",
   "metadata": {},
   "outputs": [
    {
     "data": {
      "text/plain": [
       "(('c1', 'N'), (0.0, [2], [0, 1]))"
      ]
     },
     "execution_count": 103,
     "metadata": {},
     "output_type": "execute_result"
    }
   ],
   "source": [
    "left_node_data_id = [1, 5, 6]\n",
    "cat_cols1 = {}\n",
    "num_cols1 = {}\n",
    "for c_name, c in cat_cols.items():\n",
    "    cat_cols1[c_name] = [c[i] for i in left_node_data_id]\n",
    "for c_name, c in num_cols.items():\n",
    "    num_cols1[c_name] = [c[i] for i in left_node_data_id]\n",
    "targets1 = [targets[i] for i in left_node_data_id]\n",
    "get_decision_node(cat_cols1, num_cols1, targets1)"
   ]
  },
  {
   "cell_type": "code",
   "execution_count": 100,
   "id": "dfb6b0ad",
   "metadata": {},
   "outputs": [
    {
     "data": {
      "text/plain": [
       "(('c3', 12.5), (0.0, [0], [1, 2, 3], array([1, 0]), array([0, 3])))"
      ]
     },
     "execution_count": 100,
     "metadata": {},
     "output_type": "execute_result"
    }
   ],
   "source": [
    "right_node_data_id = [0, 2, 3, 4]\n",
    "cat_cols1 = {}\n",
    "num_cols1 = {}\n",
    "for c_name, c in cat_cols.items():\n",
    "    cat_cols1[c_name] = [c[i] for i in right_node_data_id]\n",
    "for c_name, c in num_cols.items():\n",
    "    num_cols1[c_name] = [c[i] for i in right_node_data_id]\n",
    "targets1 = [targets[i] for i in right_node_data_id]\n",
    "get_decision_node(cat_cols1, num_cols1, targets1)"
   ]
  },
  {
   "cell_type": "code",
   "execution_count": 45,
   "id": "957eefa4",
   "metadata": {},
   "outputs": [
    {
     "data": {
      "text/plain": [
       "{('c1', 'N'): 0.4047619047619047,\n",
       " ('c2', 9.5): 0.42857142857142855,\n",
       " ('c2', 15.0): 0.34285714285714286,\n",
       " ('c2', 26.5): 0.4761904761904762,\n",
       " ('c2', 36.5): 0.4761904761904762,\n",
       " ('c2', 44.0): 0.34285714285714286,\n",
       " ('c2', 66.5): 0.42857142857142855}"
      ]
     },
     "execution_count": 45,
     "metadata": {},
     "output_type": "execute_result"
    }
   ],
   "source": [
    "node_options"
   ]
  },
  {
   "cell_type": "code",
   "execution_count": null,
   "id": "58b340f3",
   "metadata": {},
   "outputs": [],
   "source": []
  }
 ],
 "metadata": {
  "kernelspec": {
   "display_name": "Python 3",
   "language": "python",
   "name": "python3"
  },
  "language_info": {
   "codemirror_mode": {
    "name": "ipython",
    "version": 3
   },
   "file_extension": ".py",
   "mimetype": "text/x-python",
   "name": "python",
   "nbconvert_exporter": "python",
   "pygments_lexer": "ipython3",
   "version": "3.8.8"
  }
 },
 "nbformat": 4,
 "nbformat_minor": 5
}
